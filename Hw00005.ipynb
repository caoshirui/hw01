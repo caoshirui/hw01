{
 "cells": [
  {
   "cell_type": "markdown",
   "id": "19e8375c",
   "metadata": {},
   "source": [
    "1.\n",
    "1. What makes the difference between ideas that can and cannot be tested statistically?\n",
    "Testable ideas must be quantifiable and measurable with data.\n",
    "They need to be specific enough to make predictions (e.g., “the vaccine reduces infection rates”).\n",
    "If an idea is vague or subjective (like opinions), it can’t be tested statistically.\n",
    "2. Key criteria for a good null hypothesis:\n",
    "Neutral statement: It assumes no effect or no difference (e.g., \"The vaccine has no effect\").\n",
    "Measurable: Can be tested using data.\n",
    "Refutable: There should be a chance to reject it based on the evidence.\n",
    "3. Difference between a null hypothesis and an alternative hypothesis:\n",
    "Null hypothesis (H₀): Assumes no effect, no difference, or status quo (e.g., “No difference in infection rates”).\n",
    "Alternative hypothesis (H₁): Suggests there is an effect or difference (e.g., “The vaccine reduces infection rates”).\n",
    "Purpose: Hypothesis testing tries to find evidence against the null, which supports the alternative if the null is rejected."
   ]
  },
  {
   "cell_type": "markdown",
   "id": "645d2f5d",
   "metadata": {},
   "source": [
    "Summary of Hypothesis Testing and Null Hypothesis\n",
    "Key Factor for Testable Ideas:\n",
    "The main factor that distinguishes ideas that can be statistically examined from those that cannot is whether the idea can be measured or observed in a quantitative manner. Ideas must be based on data that can be collected and analyzed.\n",
    "Criteria for a Good Null Hypothesis (H₀):\n",
    "A good null hypothesis should be:\n",
    "Clear and specific: It must state a precise assumption about the population parameter.\n",
    "Testable: It should be possible to collect data to support or refute the hypothesis.\n",
    "Based on theory: It should stem from existing knowledge or theory, providing a foundation for the testing.\n",
    "Difference Between Null Hypothesis (H₀) and Alternative Hypothesis (H₁):\n",
    "The null hypothesis (H₀) states that there is no effect or difference; it represents the status quo or baseline assumption.\n",
    "The alternative hypothesis (H₁) posits that there is an effect or difference; it suggests that the observations are not due to random chance."
   ]
  },
  {
   "cell_type": "markdown",
   "id": "46a64c4f",
   "metadata": {},
   "source": [
    "2.\n",
    "xᵢ means data points that I selected from sample \n",
    "x̄ is the sample mean and the average of those individual data points from the sample \n",
    "μ is the population mean and the true average I focus on the whole population \n",
    "μ₀ is the null hypothesis mean and the value assume the population mean is before testing \n",
    "we collect a sample (a smaller group), but I want to results trying to tell something about the whole population(the larger range). The sample statistics are just estimates we want to use to make guesses about the population parameter."
   ]
  },
  {
   "cell_type": "markdown",
   "id": "e719ae48",
   "metadata": {},
   "source": [
    "Summary of Population Parameters and P-values\n",
    "Understanding Population Parameters vs. Sample Statistics:\n",
    "The statement emphasizes that the outcomes of hypothesis tests refer to the population parameter rather than the sample statistic. This means that when we conduct hypothesis testing, we are trying to make conclusions about the entire population based on the sample data.\n",
    "Key Terms Explained:\n",
    "xᵢ: Individual observations in the sample.\n",
    "x̄ (sample mean): The average of the individual observations in the sample.\n",
    "μ (population mean): The average of all observations in the population.\n",
    "μ₀ (hypothesized population mean): The mean value stated in the null hypothesis.\n",
    "Interpretation of the Statement:\n",
    "The outcomes of tests focus on the population parameters (like μ and μ₀) because we want to understand how the sample results (x̄) relate to the larger population. For instance, if we find a significant difference between sample means, we are interested in whether this difference reflects a true difference in the population means, not just a quirk of our sample.\n"
   ]
  },
  {
   "cell_type": "markdown",
   "id": "aca71b08",
   "metadata": {},
   "source": [
    "3.When we calculate a p-value, we start by pretending the null hypothesis is true. This means we assume that nothing unusual or special is happening—there’s no effect, no difference, or no relationship (e.g., \"the vaccine has no effect\").\n",
    "\n",
    "From there, we ask:\n",
    "“If the null hypothesis is true, how likely are we to see results like the ones in our sample—or even more extreme—just by random chance?”\n",
    "\n",
    "If the chance (p-value) is really small, it suggests that what we observed in the data is unlikely to happen just by luck. That gives us reason to question the null hypothesis and maybe accept that something interesting (the alternative hypothesis) is going on."
   ]
  },
  {
   "cell_type": "markdown",
   "id": "8bc2bcf6",
   "metadata": {},
   "source": [
    "4.\n",
    "The p-value shows us how likely it is to get results as extreme as ours if the null hypothesis is true. A small p-value means that it’s very unlikely to see data like ours if the null hypothesis is correct, suggesting that something unusual has happened, and the null hypothesis might not be true. The test statistic is the value calculated from our data, and the p-value tells us how rare that value would be under the assumption that the null hypothesis is true. The sampling distribution is what we would expect the test statistic to look like if we repeated the experiment many times under the assumption that the null hypothesis is true.\n",
    "\n",
    "When get a small p-value, it means that the result observed is very unlikely to happen if the null hypothesis is true.\n",
    "Null hypothesis (H₀): This is the starting assumption that nothing special is happening \n",
    "P-value: This tells the probability of seeing sample results just by random chance, assuming the null hypothesis is true.\n",
    "If the p-value is really small, it suggests that the outcome observed would hardly ever happen in a world where the null is true. The smaller the p-value, the more ridiculous the null hypothesis seems—because if H₀ were true, such results should almost never occur\n",
    "\n"
   ]
  },
  {
   "cell_type": "markdown",
   "id": "4e378f9a",
   "metadata": {},
   "source": [
    "5.Set up the scenario:\n",
    "We observed 80 out of 124 couples tilting their heads to the right. Under H₀, each couple flips a “fair coin” with a 50/50 chance of tilting left or right.\n",
    "Simulate the coin flips:\n",
    "Flip a virtual coin 124 times (one for each couple).\n",
    "Count how many heads (right tilts) occur.\n",
    "Repeat the experiment many times:\n",
    "Simulate this many times (e.g., 10,000 times) to build a distribution of results.\n",
    "For each trial, count how many times the number of right-tilters is 80 or more (as extreme as our observation).\n",
    "Calculate the p-value:\n",
    "The p-value is the fraction of simulations where the result was 80 or more right tilts.\n",
    "p-value=Number of times result ≥ 80\n",
    "Total simulations\n",
    "p-value= Total simulations\n",
    "Number of times result ≥ 80"
   ]
  },
  {
   "cell_type": "markdown",
   "id": "7fca2408",
   "metadata": {},
   "source": [
    "6.\n",
    "Can a smaller p-value prove the null hypothesis is false?\n",
    "No. A small p-value just suggests that the observed result is unlikely under H₀, making us question it. But there’s always a chance the result happened by random chance, so we never \"prove\" anything with certainty.\n",
    "Can a p-value prove that Fido is innocent?\n",
    "No. A high p-value doesn’t prove Fido is innocent—it only means we don’t have enough evidence to reject H₀ (Fido is innocent). He might still be guilty, but we just didn’t get convincing data.\n",
    "Can a p-value prove Fido is guilty?\n",
    "No. A low p-value gives strong evidence against H₀ (innocence), but it’s not definite proof. We are only saying guilt is more likely based on the evidence.\n",
    "How low or high must a p-value be to \"prove\" anything?\n",
    "No specific value of the p-value can prove something absolutely. Even with a very low p-value (e.g., 0.001), there's always some chance of error or unusual outcomes by luck."
   ]
  },
  {
   "cell_type": "markdown",
   "id": "7aee442d",
   "metadata": {},
   "source": [
    "7.One-Sided (One-Tailed) Test vs. Two-Sided (Two-Tailed) Test:\n",
    "A one-sided test evaluates whether a parameter is either greater than or less than a certain value (but not both). For example, if you want to test if a new vaccine is more effective than an existing one, you would use a one-sided test.\n",
    "A two-sided test checks for deviations in both directions. For example, you would test if the new vaccine is either more effective or less effective than the existing one.\n",
    "Adjusting the Code:\n",
    "To compute a p-value for a one-sided test instead of a two-sided test in the code would make the following changes:\n",
    "Calculate the Test Statistic: Ensure that you calculate the test statistic (like t or z) based on the direction you are testing. For example, if testing if a mean is greater, you would look for positive deviations.\n",
    "Modify P-value Calculation: Instead of using the two-tailed p-value calculation, would only consider the area in one tail of the distribution. This might involve halving the p-value if the original computation assumes a two-tailed test.\n",
    "Changes in Interpretation:\n",
    "The interpretation of a one-sided test focuses only on the specified direction of the effect. If testing if a new vaccine is more effective, there would only reject the null hypothesis if the results show a significant improvement (greater effectiveness).\n",
    "Expected P-value Comparison:\n",
    "Generally, would expect the p-value to be smaller in a one-tailed test compared to a two-tailed test when the null hypothesis is false. This is because the one-tailed test only looks for evidence in one direction, which makes it easier to find statistical significance if there is indeed an effect.\n"
   ]
  },
  {
   "cell_type": "markdown",
   "id": "8a30fcbb",
   "metadata": {},
   "source": [
    "8.\n",
    "Population, Sample, and Parameter of Interest\n",
    "Population: All students in STA130 (or more generally, all students who could participate in such a taste test).\n",
    "Sample: 80 randomly selected students from the STA130 course.\n",
    "Parameter of interest: The true proportion of students in the population who can correctly identify the pouring order.\n",
    "Observed test statistic: 49 out of 80 students (or 61.25%) identified the order correctly.\n",
    "Null and Alternative Hypotheses\n",
    "Formal Null Hypothesis (H₀):\n",
    "H0:p=0.5\n",
    "There is no skill involved—the students are just guessing, and the proportion of correct answers is 50%.\n",
    "Informal Interpretive Statement for H₀:\n",
    "\n",
    "The students are no better than random guessing when identifying the pouring order.\n",
    "\n",
    "Alternative Hypothesis (H₁):\n",
    "\n",
    "H1:p>0.5\n",
    "More than half of the students can correctly identify the pouring order, suggesting some skill or non-random ability.\n",
    "Quantitative Analysis\n",
    "The key question is: Is 49 out of 80 students guessing correctly (61.25%) too far from 50% to be explained by random chance?\n",
    "\n",
    "To address this, we perform hypothesis testing. Specifically, we will use a binomial model to simulate the experiment under the assumption of the null hypothesis:\n",
    "\n",
    "Each student has a 50% chance of guessing correctly (like flipping a fair coin).\n",
    "We calculate the p-value: the probability of getting 49 or more correct answers (or a similarly extreme result) if students were just guessing.\n",
    "\n",
    "Methodology Code and Explanations\n",
    "Here’s how we simulate the p-value with Python:\n",
    "\n",
    "Binomial model: For each student, there is a 50% chance of guessing correctly.\n",
    "Simulate 10,000 trials: Each trial simulates 80 guesses with a 50% chance of being correct.\n",
    "Count the number of trials where 49 or more correct guesses occur.\n",
    "Calculate the p-value: The fraction of trials with 49 or more correct guesses.\n",
    "\n"
   ]
  },
  {
   "cell_type": "code",
   "execution_count": 1,
   "id": "3e1d32ed",
   "metadata": {},
   "outputs": [
    {
     "name": "stdout",
     "output_type": "stream",
     "text": [
      "P-value: 0.0294\n"
     ]
    }
   ],
   "source": [
    "import numpy as np\n",
    "\n",
    "# Set seed for reproducibility\n",
    "np.random.seed(42)\n",
    "\n",
    "# Parameters\n",
    "n_students = 80  # Total number of students\n",
    "observed_correct = 49  # Observed correct guesses\n",
    "simulations = 10000  # Number of simulations\n",
    "\n",
    "# Simulate the binomial process: 80 students guessing with 50% chance\n",
    "results = np.random.binomial(n_students, 0.5, size=simulations)\n",
    "\n",
    "# Calculate p-value: Fraction of simulations with 49 or more correct guesses\n",
    "p_value = np.sum(results >= observed_correct) / simulations\n",
    "print(f\"P-value: {p_value}\")\n"
   ]
  },
  {
   "cell_type": "markdown",
   "id": "d413f227",
   "metadata": {},
   "source": [
    "Findings and Discussion\n",
    "If the p-value is small (p < 0.05), it suggests that the observed result (49 out of 80 correct) is unlikely to happen by random chance, giving us evidence against the null hypothesis (H₀).\n",
    "If the p-value is large, it means the observed result could easily occur by chance, and we fail to reject H₀.\n"
   ]
  },
  {
   "cell_type": "code",
   "execution_count": 2,
   "id": "5b208857",
   "metadata": {},
   "outputs": [
    {
     "data": {
      "image/png": "[encoded data removed]",
      "text/plain": [
       "<Figure size 640x480 with 1 Axes>"
      ]
     },
     "metadata": {},
     "output_type": "display_data"
    }
   ],
   "source": [
    "import matplotlib.pyplot as plt\n",
    "\n",
    "# Plot histogram of simulation results\n",
    "plt.hist(results, bins=range(30, 81), edgecolor='black', alpha=0.7)\n",
    "plt.axvline(observed_correct, color='red', linestyle='dashed', linewidth=2)\n",
    "plt.title(\"Distribution of Correct Guesses in Simulations\")\n",
    "plt.xlabel(\"Number of Correct Guesses\")\n",
    "plt.ylabel(\"Frequency\")\n",
    "plt.show()\n"
   ]
  },
  {
   "cell_type": "markdown",
   "id": "8ecdc145",
   "metadata": {},
   "source": [
    "Conclusion Regarding the Null Hypothesis\n",
    "If the p-value from our simulation is less than 0.05, we have enough evidence to reject the null hypothesis (H₀). This would suggest that students in STA130 might have some ability to identify the pouring order, beyond random guessing.\n",
    "\n",
    "If the p-value is greater than 0.05, we fail to reject H₀, meaning that the students’ performance could reasonably be explained by random guessing.\n",
    "\n",
    "Further Considerations\n",
    "Sample Size: With only 80 students, the experiment might not capture the true ability of the entire STA130 population.\n",
    "Context Matters: In the original experiment, Dr. Bristol’s ability to distinguish tea preparation was more personal, whereas in this experiment, students are making abstract guesses with less context or experience.\n",
    "Confidence Interval: We could also calculate a confidence interval for the proportion of correct guesses to provide additional insights into the results."
   ]
  },
  {
   "cell_type": "markdown",
   "id": "6f3a6f8f",
   "metadata": {},
   "source": [
    "9.Yes"
   ]
  },
  {
   "cell_type": "markdown",
   "id": "3257dd7d",
   "metadata": {},
   "source": [
    "Summaries\n",
    "Hypothesis testing helps us determine if the observed result is consistent with random chance or suggests an actual effect.\n",
    "The p-value is crucial to quantify the strength of evidence against the null hypothesis.\n",
    "In reproducing classical experiments like Fisher’s tea experiment, we use hypothesis testing to assess whether performance (like guessing the order of pouring) is just luck or shows real skill."
   ]
  }
 ],
 "metadata": {
  "kernelspec": {
   "display_name": "Python 3 (ipykernel)",
   "language": "python",
   "name": "python3"
  },
  "language_info": {
   "codemirror_mode": {
    "name": "ipython",
    "version": 3
   },
   "file_extension": ".py",
   "mimetype": "text/x-python",
   "name": "python",
   "nbconvert_exporter": "python",
   "pygments_lexer": "ipython3",
   "version": "3.11.6"
  }
 },
 "nbformat": 4,
 "nbformat_minor": 5
}
