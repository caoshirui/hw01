{
 "cells": [
  {
   "cell_type": "markdown",
   "id": "8c26af6d",
   "metadata": {},
   "source": [
    "Analysis 1: The Effect of Age on Life Satisfaction(linear regression)\n",
    "\n",
    "-Research Question: Does age significantly influence life satisfaction among participants?\n",
    "\n",
    "In this analysis, I aim to explore the relationship between DEMO_age (age) and WELLNESS_life_satisfaction (life satisfaction) to find whether age has a meaningful impact on individuals’ overall life satisfaction. This relationship is worth to study, because differnet ages hve their different mind and age can often be associated with various psychological, social, and economic changes that might influence an individual's sense of well-being.\n",
    "\n",
    "-Variables:\n",
    "\n",
    "Independent Variable: DEMO_age (Age), as the predictor variable.\n",
    "Dependent Variable: WELLNESS_life_satisfaction (Life Satisfaction), as the outcome variable.\n",
    "\n",
    "The reason why I want to choose these 2 variables is that I noiced the WELLNESS_life_satisfaction and DEMO_age (Age) were all ints and continuous varibles,so they are easy and fit for me to analyze them with the linear regression.And the if the age affects a lot.\n",
    "\n",
    "Visualizations:\n",
    "Scatter Plot: This is suitable for displaying the distribution of age against life satisfaction, making it easier to observe any linear relationship. The scatter plot also helps identify outliers that could affect the analysis.\n",
    "Line of Best Fit: Adding a trend line to the scatter plot provides a clear visual of the relationship, highlighting whether there’s a positive or negative correlation between age and life satisfaction.\n",
    "Box Plot: For further exploration, a box plot comparing age groups can show how life satisfaction varies across age ranges, highlighting differences in median values and any potential outliers within each group\n",
    "\n",
    "-Analysis : I will use a simple linear regression to analyze the effect of age on life satisfaction. Linear regression is appropriate here, as it allows for the quantification of the relationship between a continuous predictor (age) and a continuous outcome (life satisfaction).Age and life satisfaction should have a linear relationship.And observations must be independent and Residuals should be normally distributed.Residual variance should remain constant across ages. If this assumption does not hold, the model may not accurately capture the trendIf assumptions such as linearity and normality of residuals are met, this model will provide a clear interpretation of how life satisfaction changes with age.\n",
    "\n",
    "-Hypothesis and Potential Findings: I hypothesize that age may have a positive or negative effect on life satisfaction, depending on whether there is a pattern of increased or decreased satisfaction across different age groups. A significant relationship could reveal that certain age groups experience higher or lower life satisfaction, potentially due to factors like career stability, health, or social networks. Such insights would be relevant to understanding the broader influences of age on quality of life, aligning with the course objectives of exploring socio-demographic predictors of well-being."
   ]
  },
  {
   "cell_type": "markdown",
   "id": "00a3cb4d",
   "metadata": {},
   "source": [
    "Analysis 2: The Effect of Province on Weekly Work Hours (Bootstrapping for Hypothesis Testing)\n",
    "\n",
    "-Research Question: Does the province of residence significantly affect the average weekly work hours?\n",
    "\n",
    "This analysis examines the relationship between GEO_province (province of residence) and WORK_hours_per_week (weekly work hours) to determine if work hours vary significantly across provinces. Regional differences can impact work habits due to diverse economic and cultural factors, making it relevant to investigate this variation.\n",
    "\n",
    "-Variables:(among those which have the number instead of NA)\n",
    "\n",
    "Independent Variable: GEO_province (Province), a categorical variable representing where participants reside.\n",
    "Dependent Variable: WORK_hours_per_week (Weekly Work Hours), a continuous variable measuring work time.\n",
    "\n",
    "The reason why I choose the province and the weekly work hours is that I want to expolre the gregraphic location how to affect the work hours.Because the different provinces  had varied economic and cultural contexts which would potetioally affect work patterns.\n",
    "\n",
    "Visualiztion:\n",
    "Box Plot: This is appropriate for comparing the distribution of weekly work hours across different provinces. Box plots clearly show the median, interquartile range, and potential outliers within each province, making it easy to observe differences and variability across regions.\n",
    "Bar Chart of Mean Work Hours: A bar chart displaying the average weekly work hours for each province can provide a straightforward visual comparison. This helps to quickly identify provinces with notably higher or lower average work hours.\n",
    "Histogram: Creating histograms for work hours within selected provinces can illustrate the distribution of work hours in detail, revealing any patterns such as skewness or bimodality that might differ by province.\n",
    "\n",
    "\n",
    "-Analysis Method: \n",
    "I will use bootstrapping for hypothesis testing to assess whether the observed differences in work hours across provinces are statistically significant. Bootstrapping involves repeatedly resampling the data to create an empirical distribution of provincial mean differences, which can test for significance without assuming normality.I also make sure that observations within each province are independent and the sample should represent the population.Each province should have enough data and resampling reflects true variation across provinces.\n",
    "\n",
    "-Hypotheses:\n",
    "Null Hypothesis (H₀): The average weekly work hours are equal across all provinces.\n",
    "Alternative Hypothesis (H₁): At least one province has a significantly different average weekly work hours than others.\n",
    "Possible Results and Relevance: If the bootstrapped p-value is below our significance level (e.g., 0.05), we would reject the null hypothesis, indicating that work hours vary significantly by province. Such findings would imply that geographic location influences work behaviors, possibly due to differences in local economies, cultural norms, or policies. This aligns with the project’s objectives by highlighting how demographic and geographic factors can predict work-related behaviors, offering insights that may support future studies on regional labor trends.\n",
    "\n"
   ]
  },
  {
   "cell_type": "markdown",
   "id": "28398e8f",
   "metadata": {},
   "source": [
    "Analysis 3: Gender Differences in Social Days with Family (T test)\n",
    "\n",
    "-Research Question: Do males and females differ significantly in the number of days they spend with family over the past week?\n",
    "\n",
    "This analysis examines whether there is a significant difference between genders (DEMO_gender) in CONNECTION_social_days_family_p7d, which measures the number of days individuals spent with family in the past seven days. Social engagement with family can vary based on gender due to differing cultural expectations, work-life balance, and social norms.\n",
    "\n",
    "-Variables:(among those which have the number instead of NA)\n",
    "\n",
    "Independent Variable: DEMO_gender (Gender), a categorical variable representing male and female groups.\n",
    "Dependent Variable: CONNECTION_social_days_family_p7d, a continuous variable that tracks the number of days spent with family.\n",
    "\n",
    "The reson why choose these 2 variables is that I found that gender is a categorical variable and I want to figure out nvestigate potential gender-based differences in family time.Because gender can impact social behavior due to cultural norms and differing work-life expectations, making this a relevant analysis.\n",
    "\n",
    "Visualization:\n",
    "Box Plot: A box plot comparing the number of family days by gender is suitable here, as it highlights differences in median values and displays the spread and potential outliers for each gender, making it easy to see if one group spends more time with family on average.\n",
    "Bar Chart of Means: Displaying the mean days spent with family for each gender in a bar chart provides a clear, quick comparison between male and female averages, effectively supporting the T-test by visualizing potential differences.\n",
    "Histogram: Separate histograms for each gender showing the distribution of family days can reveal if there’s a pattern, like one gender spending family days more frequently in certain ranges.\n",
    "\n",
    "-Analysis Method: I will use an independent samples T-test to compare the means of CONNECTION_social_days_family_p7d between males and females. The T-test is appropriate here, as it tests whether the difference in means between two independent groups (males vs. females) is statistically significant.And also Family days should follow a normal distribution.Besides that make sure that make sure that male and female samples are independent and variances between genders should be equal.And samples should represent the population.\n",
    "\n",
    "-Hypotheses:\n",
    "Null Hypothesis (H₀): There is no significant difference in the number of days spent with family between males and females.\n",
    "Alternative Hypothesis (H₁): There is a significant difference in the number of days spent with family between males and females.\n",
    "Possible Results and Relevance: If the T-test results in a p-value below the significance level (e.g., 0.05), we would reject the null hypothesis, indicating that males and females spend significantly different amounts of time with family. Identifying such differences could highlight gender-based social engagement patterns and align with the project’s objective to explore demographic predictors of social behaviors. This information may help in understanding how gender roles influence family interactions, supporting broader studies on social well-being.\n",
    "\n"
   ]
  }
 ],
 "metadata": {
  "kernelspec": {
   "display_name": "Python 3 (ipykernel)",
   "language": "python",
   "name": "python3"
  },
  "language_info": {
   "codemirror_mode": {
    "name": "ipython",
    "version": 3
   },
   "file_extension": ".py",
   "mimetype": "text/x-python",
   "name": "python",
   "nbconvert_exporter": "python",
   "pygments_lexer": "ipython3",
   "version": "3.11.6"
  }
 },
 "nbformat": 4,
 "nbformat_minor": 5
}
